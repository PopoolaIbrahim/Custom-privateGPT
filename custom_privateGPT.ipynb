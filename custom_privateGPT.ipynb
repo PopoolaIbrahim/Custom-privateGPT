{
  "nbformat": 4,
  "nbformat_minor": 0,
  "metadata": {
    "colab": {
      "provenance": [],
      "authorship_tag": "ABX9TyPFpEISJNB+CLLAsGKciO97",
      "include_colab_link": true
    },
    "kernelspec": {
      "name": "python3",
      "display_name": "Python 3"
    },
    "language_info": {
      "name": "python"
    }
  },
  "cells": [
    {
      "cell_type": "markdown",
      "metadata": {
        "id": "view-in-github",
        "colab_type": "text"
      },
      "source": [
        "<a href=\"https://colab.research.google.com/github/PopoolaIbrahim/Custom-privateGPT/blob/main/custom_privateGPT.ipynb\" target=\"_parent\"><img src=\"https://colab.research.google.com/assets/colab-badge.svg\" alt=\"Open In Colab\"/></a>"
      ]
    },
    {
      "cell_type": "code",
      "execution_count": null,
      "metadata": {
        "id": "vLte2Tg5wcO0"
      },
      "outputs": [],
      "source": [
        "!git clone https://github.com/PopoolaIbrahim/privateGPT.git\n"
      ]
    },
    {
      "cell_type": "code",
      "source": [
        "cd privateGPT/\n"
      ],
      "metadata": {
        "id": "v-dq_4-rwjMq"
      },
      "execution_count": null,
      "outputs": []
    },
    {
      "cell_type": "code",
      "source": [
        "!pip install -r requirements.txt\n"
      ],
      "metadata": {
        "id": "UM3t5pVdwjQz"
      },
      "execution_count": null,
      "outputs": []
    },
    {
      "cell_type": "code",
      "source": [
        "!mkdir models\n"
      ],
      "metadata": {
        "id": "2z2ykg8OwjVg"
      },
      "execution_count": null,
      "outputs": []
    },
    {
      "cell_type": "code",
      "source": [
        "cd models/\n"
      ],
      "metadata": {
        "id": "InUsa0bUwja8"
      },
      "execution_count": null,
      "outputs": []
    },
    {
      "cell_type": "code",
      "source": [
        "!wget https://gpt4all.io/models/ggml-gpt4all-j-v1.3-groovy.bin\n"
      ],
      "metadata": {
        "id": "k4PVSMMHwjez"
      },
      "execution_count": null,
      "outputs": []
    },
    {
      "cell_type": "code",
      "source": [
        "cd ./.. \n"
      ],
      "metadata": {
        "id": "CyhfwKwyw_tR"
      },
      "execution_count": null,
      "outputs": []
    },
    {
      "cell_type": "code",
      "source": [
        "mv example.env .env"
      ],
      "metadata": {
        "id": "V4agY5Nt35IS"
      },
      "execution_count": null,
      "outputs": []
    },
    {
      "cell_type": "code",
      "source": [
        "cd source_documents/\n"
      ],
      "metadata": {
        "id": "mAqAYVWdw_73"
      },
      "execution_count": null,
      "outputs": []
    },
    {
      "cell_type": "code",
      "source": [
        "from google.colab import files\n"
      ],
      "metadata": {
        "id": "tV34v8q-w__G"
      },
      "execution_count": null,
      "outputs": []
    },
    {
      "cell_type": "code",
      "source": [
        "print(\"Choose a single file\")\n"
      ],
      "metadata": {
        "id": "G7bJa7BExAUC"
      },
      "execution_count": null,
      "outputs": []
    },
    {
      "cell_type": "code",
      "source": [
        "uploaded = files.upload()\n"
      ],
      "metadata": {
        "id": "URWqD-FQxNMe"
      },
      "execution_count": null,
      "outputs": []
    },
    {
      "cell_type": "code",
      "source": [
        "cd ./..\n"
      ],
      "metadata": {
        "id": "6yX4hTKBxQqr"
      },
      "execution_count": null,
      "outputs": []
    },
    {
      "cell_type": "code",
      "source": [
        "!python ingest.py\n"
      ],
      "metadata": {
        "id": "9wU_qHsXxVcN"
      },
      "execution_count": null,
      "outputs": []
    },
    {
      "cell_type": "code",
      "source": [
        "!python privateGPT.py"
      ],
      "metadata": {
        "id": "CrPCfTRjxZkd"
      },
      "execution_count": null,
      "outputs": []
    }
  ]
}